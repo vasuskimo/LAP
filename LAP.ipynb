{
 "cells": [
  {
   "cell_type": "code",
   "execution_count": 1,
   "metadata": {},
   "outputs": [],
   "source": [
    "from base64 import b64decode\n",
    "from json import loads\n",
    "import numpy as np\n",
    "import matplotlib.pyplot as plt\n",
    "from scipy.spatial import distance\n",
    "# set matplotlib to display all plots inline with the notebook\n",
    "%matplotlib inline"
   ]
  },
  {
   "cell_type": "code",
   "execution_count": 2,
   "metadata": {},
   "outputs": [],
   "source": [
    "# Hyperparameters\n",
    "# m is the number of lines in the next section\n",
    "m = 60000\n",
    "k = 100\n",
    "t = 1600"
   ]
  },
  {
   "cell_type": "code",
   "execution_count": 3,
   "metadata": {},
   "outputs": [
    {
     "name": "stdout",
     "output_type": "stream",
     "text": [
      "60000\n",
      "2\n"
     ]
    },
    {
     "data": {
      "image/png": "[encoded data removed]",
      "text/plain": [
       "<matplotlib.figure.Figure at 0x60f23b5f8>"
      ]
     },
     "metadata": {},
     "output_type": "display_data"
    }
   ],
   "source": [
    "# Open the JSON file, passing all the lines to lines.\n",
    "# Then use loads from json to get the json into digit dictionary\n",
    "# Print the label of some item\n",
    "# Display the image of some item\n",
    "with open(\"digits.base64.json\",\"r\") as f:\n",
    "    lines = f.readlines()\n",
    "    print(len(lines))\n",
    "    digit = loads(lines[5])\n",
    "    a = loads(lines[1])\n",
    "    b = loads(lines[21])\n",
    "    \n",
    "    print(digit['label'])\n",
    "    image = np.fromstring(b64decode(digit[\"data\"]),dtype=np.ubyte)\n",
    "    image = image.astype(np.float64)\n",
    "    \n",
    "    first = np.fromstring(b64decode(a[\"data\"]),dtype=np.ubyte)\n",
    "    first = first.astype(np.float64)\n",
    "    \n",
    "    second = np.fromstring(b64decode(b[\"data\"]),dtype=np.ubyte)\n",
    "    second = second.astype(np.float64)\n",
    "    plt.figure()\n",
    "    fig = plt.imshow(image.reshape(28,28))\n",
    "    fig.set_cmap('gray_r')\n",
    "    fig.axes.get_xaxis().set_visible(False)\n",
    "    fig.axes.get_yaxis().set_visible(False)"
   ]
  },
  {
   "cell_type": "code",
   "execution_count": 4,
   "metadata": {},
   "outputs": [
    {
     "name": "stdout",
     "output_type": "stream",
     "text": [
      "1388.005763676794\n"
     ]
    }
   ],
   "source": [
    "\n",
    "dst = distance.euclidean(first, second)\n",
    "print(dst)"
   ]
  },
  {
   "cell_type": "code",
   "execution_count": 9,
   "metadata": {},
   "outputs": [],
   "source": [
    "def belowThreshold(dst) :\n",
    "    \"\"\"\n",
    "    This function returns true if the value\n",
    "    is less than the threshold\n",
    "    \"\"\"\n",
    "    if(dst < t):\n",
    "        return True\n",
    "    else:\n",
    "        return False"
   ]
  },
  {
   "cell_type": "code",
   "execution_count": 10,
   "metadata": {},
   "outputs": [
    {
     "name": "stdout",
     "output_type": "stream",
     "text": [
      "1388.005763676794\n",
      "True\n"
     ]
    }
   ],
   "source": [
    "dst = distance.euclidean(first, second)\n",
    "print(dst)\n",
    "print(belowThreshold(dst))"
   ]
  },
  {
   "cell_type": "code",
   "execution_count": null,
   "metadata": {},
   "outputs": [],
   "source": []
  }
 ],
 "metadata": {
  "kernelspec": {
   "display_name": "Python 3",
   "language": "python",
   "name": "python3"
  },
  "language_info": {
   "codemirror_mode": {
    "name": "ipython",
    "version": 3
   },
   "file_extension": ".py",
   "mimetype": "text/x-python",
   "name": "python",
   "nbconvert_exporter": "python",
   "pygments_lexer": "ipython3",
   "version": "3.5.4"
  }
 },
 "nbformat": 4,
 "nbformat_minor": 2
}
