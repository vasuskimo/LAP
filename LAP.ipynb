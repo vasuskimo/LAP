{
 "cells": [
  {
   "cell_type": "code",
   "execution_count": 1,
   "metadata": {
    "collapsed": true
   },
   "outputs": [],
   "source": [
    "from base64 import b64decode\n",
    "from json import loads\n",
    "import numpy as np\n",
    "import matplotlib.pyplot as plt\n",
    "from scipy.spatial import distance\n",
    "# set matplotlib to display all plots inline with the notebook\n",
    "%matplotlib inline"
   ]
  },
  {
   "cell_type": "code",
   "execution_count": 2,
   "metadata": {
    "collapsed": true
   },
   "outputs": [],
   "source": [
    "# Hyperparameters\n",
    "m = 10000 #global for MNIST = 60000\n",
    "k = 1000 #local set size\n",
    "t = 1200 #threshold for euclidean distance\n",
    "\n",
    "#constants\n",
    "INIT_VAL = -9000"
   ]
  },
  {
   "cell_type": "code",
   "execution_count": 3,
   "metadata": {},
   "outputs": [
    {
     "name": "stdout",
     "output_type": "stream",
     "text": [
      "60000\n",
      "4\n"
     ]
    },
    {
     "data": {
      "image/png": "[encoded data removed]",
      "text/plain": [
       "<matplotlib.figure.Figure at 0x7f8177b6f6d8>"
      ]
     },
     "metadata": {},
     "output_type": "display_data"
    }
   ],
   "source": [
    "\"\"\"\n",
    "Open the JSON file, passing all the lines to lines.\n",
    "Then use loads from json to get the json into digit dictionary\n",
    "Print the label of one item to test\n",
    "Display the image of that item\n",
    "\"\"\"\n",
    "with open('digits.base64.json','r') as f:\n",
    "    lines = f.readlines()\n",
    "    print(len(lines))\n",
    "    digit = loads(lines[53])\n",
    "    \n",
    "    print(digit['label'])\n",
    "    image = np.fromstring(b64decode(digit['data']),dtype=np.ubyte)\n",
    "    image = image.astype(np.float64)\n",
    "\n",
    "    plt.figure()\n",
    "    fig = plt.imshow(image.reshape(28,28))\n",
    "    fig.set_cmap('gray_r')\n",
    "    fig.axes.get_xaxis().set_visible(False)\n",
    "    fig.axes.get_yaxis().set_visible(False)"
   ]
  },
  {
   "cell_type": "code",
   "execution_count": 4,
   "metadata": {
    "collapsed": true
   },
   "outputs": [],
   "source": [
    "def below_threshold(dst) :\n",
    "    \"\"\"\n",
    "    This method returns true if the value\n",
    "    is less than the threshold\n",
    "    \"\"\"\n",
    "    if(dst < t):\n",
    "        return True\n",
    "    else:\n",
    "        return False"
   ]
  },
  {
   "cell_type": "code",
   "execution_count": 5,
   "metadata": {
    "collapsed": true
   },
   "outputs": [],
   "source": [
    "def find_distances():\n",
    "    \"\"\"\n",
    "    This method creates a k*m matrix \n",
    "    of the euclidean distances between \n",
    "    the members of the local set and the members of the global set.\n",
    "    If the euclidean distance is not below the threshold, the distance is set to -1.\n",
    "    \"\"\"\n",
    "    distances = np.reshape(np.arange(k*m),(k,m))\n",
    "    x = 0\n",
    "    for x in range (k):\n",
    "        y = 0\n",
    "        a = loads(lines[x])\n",
    "        local_member = np.fromstring(b64decode(a['data']),dtype=np.ubyte)\n",
    "        local_member = local_member.astype(np.float64)\n",
    "        \n",
    "        for y in range (m):\n",
    "            b = loads(lines[y])\n",
    "            global_member = np.fromstring(b64decode(b['data']),dtype=np.ubyte)\n",
    "            global_member = global_member.astype(np.float64)\n",
    "            dst = distance.euclidean(local_member, global_member)\n",
    "            if(below_threshold(dst) == False):\n",
    "                distances[x,y] = -1\n",
    "            else:\n",
    "                distances[x,y] = dst\n",
    "            y += 1\n",
    "        x += 1\n",
    "    return distances"
   ]
  },
  {
   "cell_type": "code",
   "execution_count": 6,
   "metadata": {
    "collapsed": true
   },
   "outputs": [],
   "source": [
    "def find_pivot(distances):\n",
    "    \"\"\"\n",
    "    This method finds the pivot by finding the point \n",
    "    with the most close neighbors in the neighborhood\n",
    "    \"\"\"\n",
    "    pivot = 0\n",
    "    g = 0\n",
    "    y = 0\n",
    "    for y in range (m):\n",
    "        x = 0\n",
    "        n = 0\n",
    "        for x in range (k):\n",
    "            dst = distances[x,y]\n",
    "            if(dst >= 0):\n",
    "                n += 1\n",
    "            x += 1\n",
    "        if (n > g):\n",
    "            pivot = y\n",
    "            g = n\n",
    "        y += 1\n",
    "    return pivot"
   ]
  },
  {
   "cell_type": "code",
   "execution_count": 7,
   "metadata": {
    "collapsed": true
   },
   "outputs": [],
   "source": [
    "def find_neighbor_labels(pivot):\n",
    "    \"\"\"\n",
    "    This method finds the labels of all the close neighbors of the pivot in the global set.\n",
    "    \"\"\"\n",
    "    labels = np.full(k, INIT_VAL)\n",
    "    a = loads(lines[pivot])\n",
    "    pivot_val = np.fromstring(b64decode(a['data']),dtype=np.ubyte)\n",
    "    pivot_val = pivot_val.astype(np.float64)\n",
    "    pivot_label = a['label']\n",
    "    labels[0] = pivot_label\n",
    "    x = 0\n",
    "    i = 1\n",
    "    for x in range (k):\n",
    "        if(x != pivot):\n",
    "            b = loads(lines[x])\n",
    "            candidate = np.fromstring(b64decode(b['data']),dtype=np.ubyte)\n",
    "            candidate = candidate.astype(np.float64)\n",
    "            x_label = b['label']\n",
    "            if(distance.euclidean(pivot_val, candidate) <= t):\n",
    "                labels[i] = x_label\n",
    "                i += 1\n",
    "        x += 1\n",
    "    print(labels)\n",
    "    return labels"
   ]
  },
  {
   "cell_type": "code",
   "execution_count": 8,
   "metadata": {
    "collapsed": true
   },
   "outputs": [],
   "source": [
    "def find_neighbor_indices(pivot):\n",
    "    \"\"\"\n",
    "    This method finds the indices of all the close neighbors of the pivot in the global set.\n",
    "    \"\"\"\n",
    "    indices = np.full(k, INIT_VAL)\n",
    "    a = loads(lines[pivot])\n",
    "    pivot_val = np.fromstring(b64decode(a['data']),dtype=np.ubyte)\n",
    "    pivot_val = pivot_val.astype(np.float64)\n",
    "    indices[0] = pivot\n",
    "    x = 0\n",
    "    i = 1\n",
    "    for x in range (k):\n",
    "        if(x != pivot):\n",
    "            b = loads(lines[x])\n",
    "            candidate = np.fromstring(b64decode(b['data']),dtype=np.ubyte)\n",
    "            candidate = candidate.astype(np.float64)\n",
    "            if(distance.euclidean(pivot_val, candidate) <= t):\n",
    "                indices[i] = x\n",
    "                i += 1\n",
    "        x += 1\n",
    "   # print(indices)\n",
    "    return indices"
   ]
  },
  {
   "cell_type": "code",
   "execution_count": 9,
   "metadata": {},
   "outputs": [],
   "source": [
    "def is_correct(labels):\n",
    "    \"\"\"\n",
    "    This method gives a correctness score to the algorithm \n",
    "    based on the similarity of the neighbors to the pivot.\n",
    "    A score of 0 means there are no inaccurately classified neighbors.\n",
    "    \"\"\"\n",
    "    x = 1\n",
    "    wrongness_score = 0\n",
    "    correctness_score = 0\n",
    "    incorrect_labels = np.full(k, INIT_VAL)\n",
    "    i = 0\n",
    "    for x in range (k):\n",
    "        if(labels[x] != labels[0] and labels[x] != INIT_VAL):\n",
    "            wrongness_score += 1\n",
    "            incorrect_labels[i] = labels[x]\n",
    "            i += 1\n",
    "        elif(labels[x] == labels[0]):\n",
    "            correctness_score += 1\n",
    "        x += 1\n",
    "    print(correctness_score, \" are correctly classified\")\n",
    "    print(wrongness_score, \" are incorrectly classified\")\n",
    "    print(\"incorrect label(s): \", incorrect_labels)\n",
    "    return incorrect_labels"
   ]
  },
  {
   "cell_type": "code",
   "execution_count": 10,
   "metadata": {
    "collapsed": true
   },
   "outputs": [],
   "source": [
    "def id_wrong_indices(indices, labels):\n",
    "  #  This method returns the indices of the incorrectly classified points.\n",
    "    x = 1\n",
    "    incorrect_indices = np.full(k, INIT_VAL)\n",
    "    i = 0\n",
    "    for x in range (k):\n",
    "        if(labels[x] != labels[0] and labels[x] != INIT_VAL):\n",
    "            incorrect_indices[i] = indices[x]\n",
    "            i += 1\n",
    "        x += 1\n",
    "    return incorrect_indices"
   ]
  },
  {
   "cell_type": "code",
   "execution_count": 11,
   "metadata": {},
   "outputs": [
    {
     "name": "stdout",
     "output_type": "stream",
     "text": [
      "49  are correctly classified\n",
      "0  are incorrectly classified\n",
      "incorrect label(s):  [-9000 -9000 -9000 -9000 -9000 -9000 -9000 -9000 -9000 -9000 -9000 -9000\n",
      " -9000 -9000 -9000 -9000 -9000 -9000 -9000 -9000 -9000 -9000 -9000 -9000\n",
      " -9000 -9000 -9000 -9000 -9000 -9000 -9000 -9000 -9000 -9000 -9000 -9000\n",
      " -9000 -9000 -9000 -9000 -9000 -9000 -9000 -9000 -9000 -9000 -9000 -9000\n",
      " -9000 -9000 -9000 -9000 -9000 -9000 -9000 -9000 -9000 -9000 -9000 -9000\n",
      " -9000 -9000 -9000 -9000 -9000 -9000 -9000 -9000 -9000 -9000 -9000 -9000\n",
      " -9000 -9000 -9000 -9000 -9000 -9000 -9000 -9000 -9000 -9000 -9000 -9000\n",
      " -9000 -9000 -9000 -9000 -9000 -9000 -9000 -9000 -9000 -9000 -9000 -9000\n",
      " -9000 -9000 -9000 -9000 -9000 -9000 -9000 -9000 -9000 -9000 -9000 -9000\n",
      " -9000 -9000 -9000 -9000 -9000 -9000 -9000 -9000 -9000 -9000 -9000 -9000\n",
      " -9000 -9000 -9000 -9000 -9000 -9000 -9000 -9000 -9000 -9000 -9000 -9000\n",
      " -9000 -9000 -9000 -9000 -9000 -9000 -9000 -9000 -9000 -9000 -9000 -9000\n",
      " -9000 -9000 -9000 -9000 -9000 -9000 -9000 -9000 -9000 -9000 -9000 -9000\n",
      " -9000 -9000 -9000 -9000 -9000 -9000 -9000 -9000 -9000 -9000 -9000 -9000\n",
      " -9000 -9000 -9000 -9000 -9000 -9000 -9000 -9000 -9000 -9000 -9000 -9000\n",
      " -9000 -9000 -9000 -9000 -9000 -9000 -9000 -9000 -9000 -9000 -9000 -9000\n",
      " -9000 -9000 -9000 -9000 -9000 -9000 -9000 -9000 -9000 -9000 -9000 -9000\n",
      " -9000 -9000 -9000 -9000 -9000 -9000 -9000 -9000 -9000 -9000 -9000 -9000\n",
      " -9000 -9000 -9000 -9000 -9000 -9000 -9000 -9000 -9000 -9000 -9000 -9000\n",
      " -9000 -9000 -9000 -9000 -9000 -9000 -9000 -9000 -9000 -9000 -9000 -9000\n",
      " -9000 -9000 -9000 -9000 -9000 -9000 -9000 -9000 -9000 -9000 -9000 -9000\n",
      " -9000 -9000 -9000 -9000 -9000 -9000 -9000 -9000 -9000 -9000 -9000 -9000\n",
      " -9000 -9000 -9000 -9000 -9000 -9000 -9000 -9000 -9000 -9000 -9000 -9000\n",
      " -9000 -9000 -9000 -9000 -9000 -9000 -9000 -9000 -9000 -9000 -9000 -9000\n",
      " -9000 -9000 -9000 -9000 -9000 -9000 -9000 -9000 -9000 -9000 -9000 -9000\n",
      " -9000 -9000 -9000 -9000 -9000 -9000 -9000 -9000 -9000 -9000 -9000 -9000\n",
      " -9000 -9000 -9000 -9000 -9000 -9000 -9000 -9000 -9000 -9000 -9000 -9000\n",
      " -9000 -9000 -9000 -9000 -9000 -9000 -9000 -9000 -9000 -9000 -9000 -9000\n",
      " -9000 -9000 -9000 -9000 -9000 -9000 -9000 -9000 -9000 -9000 -9000 -9000\n",
      " -9000 -9000 -9000 -9000 -9000 -9000 -9000 -9000 -9000 -9000 -9000 -9000\n",
      " -9000 -9000 -9000 -9000 -9000 -9000 -9000 -9000 -9000 -9000 -9000 -9000\n",
      " -9000 -9000 -9000 -9000 -9000 -9000 -9000 -9000 -9000 -9000 -9000 -9000\n",
      " -9000 -9000 -9000 -9000 -9000 -9000 -9000 -9000 -9000 -9000 -9000 -9000\n",
      " -9000 -9000 -9000 -9000 -9000 -9000 -9000 -9000 -9000 -9000 -9000 -9000\n",
      " -9000 -9000 -9000 -9000 -9000 -9000 -9000 -9000 -9000 -9000 -9000 -9000\n",
      " -9000 -9000 -9000 -9000 -9000 -9000 -9000 -9000 -9000 -9000 -9000 -9000\n",
      " -9000 -9000 -9000 -9000 -9000 -9000 -9000 -9000 -9000 -9000 -9000 -9000\n",
      " -9000 -9000 -9000 -9000 -9000 -9000 -9000 -9000 -9000 -9000 -9000 -9000\n",
      " -9000 -9000 -9000 -9000 -9000 -9000 -9000 -9000 -9000 -9000 -9000 -9000\n",
      " -9000 -9000 -9000 -9000 -9000 -9000 -9000 -9000 -9000 -9000 -9000 -9000\n",
      " -9000 -9000 -9000 -9000 -9000 -9000 -9000 -9000 -9000 -9000 -9000 -9000\n",
      " -9000 -9000 -9000 -9000 -9000 -9000 -9000 -9000 -9000 -9000 -9000 -9000\n",
      " -9000 -9000 -9000 -9000 -9000 -9000 -9000 -9000 -9000 -9000 -9000 -9000\n",
      " -9000 -9000 -9000 -9000 -9000 -9000 -9000 -9000 -9000 -9000 -9000 -9000\n",
      " -9000 -9000 -9000 -9000 -9000 -9000 -9000 -9000 -9000 -9000 -9000 -9000\n",
      " -9000 -9000 -9000 -9000 -9000 -9000 -9000 -9000 -9000 -9000 -9000 -9000\n",
      " -9000 -9000 -9000 -9000 -9000 -9000 -9000 -9000 -9000 -9000 -9000 -9000\n",
      " -9000 -9000 -9000 -9000 -9000 -9000 -9000 -9000 -9000 -9000 -9000 -9000\n",
      " -9000 -9000 -9000 -9000 -9000 -9000 -9000 -9000 -9000 -9000 -9000 -9000\n",
      " -9000 -9000 -9000 -9000 -9000 -9000 -9000 -9000 -9000 -9000 -9000 -9000\n",
      " -9000 -9000 -9000 -9000 -9000 -9000 -9000 -9000 -9000 -9000 -9000 -9000\n",
      " -9000 -9000 -9000 -9000 -9000 -9000 -9000 -9000 -9000 -9000 -9000 -9000\n",
      " -9000 -9000 -9000 -9000 -9000 -9000 -9000 -9000 -9000 -9000 -9000 -9000\n",
      " -9000 -9000 -9000 -9000 -9000 -9000 -9000 -9000 -9000 -9000 -9000 -9000\n",
      " -9000 -9000 -9000 -9000 -9000 -9000 -9000 -9000 -9000 -9000 -9000 -9000\n",
      " -9000 -9000 -9000 -9000 -9000 -9000 -9000 -9000 -9000 -9000 -9000 -9000\n",
      " -9000 -9000 -9000 -9000 -9000 -9000 -9000 -9000 -9000 -9000 -9000 -9000\n",
      " -9000 -9000 -9000 -9000 -9000 -9000 -9000 -9000 -9000 -9000 -9000 -9000\n",
      " -9000 -9000 -9000 -9000 -9000 -9000 -9000 -9000 -9000 -9000 -9000 -9000\n",
      " -9000 -9000 -9000 -9000 -9000 -9000 -9000 -9000 -9000 -9000 -9000 -9000\n",
      " -9000 -9000 -9000 -9000 -9000 -9000 -9000 -9000 -9000 -9000 -9000 -9000\n",
      " -9000 -9000 -9000 -9000 -9000 -9000 -9000 -9000 -9000 -9000 -9000 -9000\n",
      " -9000 -9000 -9000 -9000 -9000 -9000 -9000 -9000 -9000 -9000 -9000 -9000\n",
      " -9000 -9000 -9000 -9000 -9000 -9000 -9000 -9000 -9000 -9000 -9000 -9000\n",
      " -9000 -9000 -9000 -9000 -9000 -9000 -9000 -9000 -9000 -9000 -9000 -9000\n",
      " -9000 -9000 -9000 -9000 -9000 -9000 -9000 -9000 -9000 -9000 -9000 -9000\n",
      " -9000 -9000 -9000 -9000 -9000 -9000 -9000 -9000 -9000 -9000 -9000 -9000\n",
      " -9000 -9000 -9000 -9000 -9000 -9000 -9000 -9000 -9000 -9000 -9000 -9000\n",
      " -9000 -9000 -9000 -9000 -9000 -9000 -9000 -9000 -9000 -9000 -9000 -9000\n",
      " -9000 -9000 -9000 -9000 -9000 -9000 -9000 -9000 -9000 -9000 -9000 -9000\n",
      " -9000 -9000 -9000 -9000 -9000 -9000 -9000 -9000 -9000 -9000 -9000 -9000\n",
      " -9000 -9000 -9000 -9000 -9000 -9000 -9000 -9000 -9000 -9000 -9000 -9000\n",
      " -9000 -9000 -9000 -9000 -9000 -9000 -9000 -9000 -9000 -9000 -9000 -9000\n",
      " -9000 -9000 -9000 -9000 -9000 -9000 -9000 -9000 -9000 -9000 -9000 -9000\n",
      " -9000 -9000 -9000 -9000 -9000 -9000 -9000 -9000 -9000 -9000 -9000 -9000\n",
      " -9000 -9000 -9000 -9000 -9000 -9000 -9000 -9000 -9000 -9000 -9000 -9000\n",
      " -9000 -9000 -9000 -9000 -9000 -9000 -9000 -9000 -9000 -9000 -9000 -9000\n",
      " -9000 -9000 -9000 -9000 -9000 -9000 -9000 -9000 -9000 -9000 -9000 -9000\n",
      " -9000 -9000 -9000 -9000 -9000 -9000 -9000 -9000 -9000 -9000 -9000 -9000\n",
      " -9000 -9000 -9000 -9000 -9000 -9000 -9000 -9000 -9000 -9000 -9000 -9000\n",
      " -9000 -9000 -9000 -9000 -9000 -9000 -9000 -9000 -9000 -9000 -9000 -9000\n",
      " -9000 -9000 -9000 -9000 -9000 -9000 -9000 -9000 -9000 -9000 -9000 -9000\n",
      " -9000 -9000 -9000 -9000 -9000 -9000 -9000 -9000 -9000 -9000 -9000 -9000\n",
      " -9000 -9000 -9000 -9000]\n"
     ]
    },
    {
     "ename": "KeyboardInterrupt",
     "evalue": "",
     "output_type": "error",
     "traceback": [
      "\u001b[0;31m---------------------------------------------------------------------------\u001b[0m",
      "\u001b[0;31mKeyboardInterrupt\u001b[0m                         Traceback (most recent call last)",
      "\u001b[0;32m<ipython-input-11-6e75682cb39c>\u001b[0m in \u001b[0;36m<module>\u001b[0;34m()\u001b[0m\n\u001b[1;32m      1\u001b[0m \u001b[0;31m#Find distances, pivot, neighbors, and correctness score.\u001b[0m\u001b[0;34m\u001b[0m\u001b[0;34m\u001b[0m\u001b[0m\n\u001b[1;32m      2\u001b[0m \u001b[0mis_correct\u001b[0m\u001b[0;34m(\u001b[0m\u001b[0mfind_neighbor_labels\u001b[0m\u001b[0;34m(\u001b[0m\u001b[0mfind_pivot\u001b[0m\u001b[0;34m(\u001b[0m\u001b[0mfind_distances\u001b[0m\u001b[0;34m(\u001b[0m\u001b[0;34m)\u001b[0m\u001b[0;34m)\u001b[0m\u001b[0;34m)\u001b[0m\u001b[0;34m)\u001b[0m\u001b[0;34m\u001b[0m\u001b[0m\n\u001b[0;32m----> 3\u001b[0;31m \u001b[0mid_wrong_indices\u001b[0m\u001b[0;34m(\u001b[0m\u001b[0mfind_neighbor_indices\u001b[0m\u001b[0;34m(\u001b[0m\u001b[0mfind_pivot\u001b[0m\u001b[0;34m(\u001b[0m\u001b[0mfind_distances\u001b[0m\u001b[0;34m(\u001b[0m\u001b[0;34m)\u001b[0m\u001b[0;34m)\u001b[0m\u001b[0;34m)\u001b[0m\u001b[0;34m,\u001b[0m \u001b[0mfind_neighbor_labels\u001b[0m\u001b[0;34m(\u001b[0m\u001b[0mfind_pivot\u001b[0m\u001b[0;34m(\u001b[0m\u001b[0mfind_distances\u001b[0m\u001b[0;34m(\u001b[0m\u001b[0;34m)\u001b[0m\u001b[0;34m)\u001b[0m\u001b[0;34m)\u001b[0m\u001b[0;34m)\u001b[0m\u001b[0;34m\u001b[0m\u001b[0m\n\u001b[0m",
      "\u001b[0;32m<ipython-input-5-967983adfbde>\u001b[0m in \u001b[0;36mfind_distances\u001b[0;34m()\u001b[0m\n\u001b[1;32m     16\u001b[0m         \u001b[0;32mfor\u001b[0m \u001b[0my\u001b[0m \u001b[0;32min\u001b[0m \u001b[0mrange\u001b[0m \u001b[0;34m(\u001b[0m\u001b[0mm\u001b[0m\u001b[0;34m)\u001b[0m\u001b[0;34m:\u001b[0m\u001b[0;34m\u001b[0m\u001b[0m\n\u001b[1;32m     17\u001b[0m             \u001b[0mb\u001b[0m \u001b[0;34m=\u001b[0m \u001b[0mloads\u001b[0m\u001b[0;34m(\u001b[0m\u001b[0mlines\u001b[0m\u001b[0;34m[\u001b[0m\u001b[0my\u001b[0m\u001b[0;34m]\u001b[0m\u001b[0;34m)\u001b[0m\u001b[0;34m\u001b[0m\u001b[0m\n\u001b[0;32m---> 18\u001b[0;31m             \u001b[0mglobal_member\u001b[0m \u001b[0;34m=\u001b[0m \u001b[0mnp\u001b[0m\u001b[0;34m.\u001b[0m\u001b[0mfromstring\u001b[0m\u001b[0;34m(\u001b[0m\u001b[0mb64decode\u001b[0m\u001b[0;34m(\u001b[0m\u001b[0mb\u001b[0m\u001b[0;34m[\u001b[0m\u001b[0;34m'data'\u001b[0m\u001b[0;34m]\u001b[0m\u001b[0;34m)\u001b[0m\u001b[0;34m,\u001b[0m\u001b[0mdtype\u001b[0m\u001b[0;34m=\u001b[0m\u001b[0mnp\u001b[0m\u001b[0;34m.\u001b[0m\u001b[0mubyte\u001b[0m\u001b[0;34m)\u001b[0m\u001b[0;34m\u001b[0m\u001b[0m\n\u001b[0m\u001b[1;32m     19\u001b[0m             \u001b[0mglobal_member\u001b[0m \u001b[0;34m=\u001b[0m \u001b[0mglobal_member\u001b[0m\u001b[0;34m.\u001b[0m\u001b[0mastype\u001b[0m\u001b[0;34m(\u001b[0m\u001b[0mnp\u001b[0m\u001b[0;34m.\u001b[0m\u001b[0mfloat64\u001b[0m\u001b[0;34m)\u001b[0m\u001b[0;34m\u001b[0m\u001b[0m\n\u001b[1;32m     20\u001b[0m             \u001b[0mdst\u001b[0m \u001b[0;34m=\u001b[0m \u001b[0mdistance\u001b[0m\u001b[0;34m.\u001b[0m\u001b[0meuclidean\u001b[0m\u001b[0;34m(\u001b[0m\u001b[0mlocal_member\u001b[0m\u001b[0;34m,\u001b[0m \u001b[0mglobal_member\u001b[0m\u001b[0;34m)\u001b[0m\u001b[0;34m\u001b[0m\u001b[0m\n",
      "\u001b[0;32m/usr/local/anaconda3/lib/python3.6/base64.py\u001b[0m in \u001b[0;36mb64decode\u001b[0;34m(s, altchars, validate)\u001b[0m\n\u001b[1;32m     85\u001b[0m     \u001b[0;32mif\u001b[0m \u001b[0mvalidate\u001b[0m \u001b[0;32mand\u001b[0m \u001b[0;32mnot\u001b[0m \u001b[0mre\u001b[0m\u001b[0;34m.\u001b[0m\u001b[0mmatch\u001b[0m\u001b[0;34m(\u001b[0m\u001b[0;34mb'^[A-Za-z0-9+/]*={0,2}$'\u001b[0m\u001b[0;34m,\u001b[0m \u001b[0ms\u001b[0m\u001b[0;34m)\u001b[0m\u001b[0;34m:\u001b[0m\u001b[0;34m\u001b[0m\u001b[0m\n\u001b[1;32m     86\u001b[0m         \u001b[0;32mraise\u001b[0m \u001b[0mbinascii\u001b[0m\u001b[0;34m.\u001b[0m\u001b[0mError\u001b[0m\u001b[0;34m(\u001b[0m\u001b[0;34m'Non-base64 digit found'\u001b[0m\u001b[0;34m)\u001b[0m\u001b[0;34m\u001b[0m\u001b[0m\n\u001b[0;32m---> 87\u001b[0;31m     \u001b[0;32mreturn\u001b[0m \u001b[0mbinascii\u001b[0m\u001b[0;34m.\u001b[0m\u001b[0ma2b_base64\u001b[0m\u001b[0;34m(\u001b[0m\u001b[0ms\u001b[0m\u001b[0;34m)\u001b[0m\u001b[0;34m\u001b[0m\u001b[0m\n\u001b[0m\u001b[1;32m     88\u001b[0m \u001b[0;34m\u001b[0m\u001b[0m\n\u001b[1;32m     89\u001b[0m \u001b[0;34m\u001b[0m\u001b[0m\n",
      "\u001b[0;31mKeyboardInterrupt\u001b[0m: "
     ]
    }
   ],
   "source": [
    "#Find distances, pivot, neighbors, and correctness score.\n",
    "is_correct(find_neighbor_labels(find_pivot(find_distances())))\n",
    "id_wrong_indices(find_neighbor_indices(find_pivot(find_distances())), find_neighbor_labels(find_pivot(find_distances())))"
   ]
  },
  {
   "cell_type": "code",
   "execution_count": null,
   "metadata": {
    "collapsed": true
   },
   "outputs": [],
   "source": []
  }
 ],
 "metadata": {
  "kernelspec": {
   "display_name": "Python 3",
   "language": "python",
   "name": "python3"
  },
  "language_info": {
   "codemirror_mode": {
    "name": "ipython",
    "version": 3
   },
   "file_extension": ".py",
   "mimetype": "text/x-python",
   "name": "python",
   "nbconvert_exporter": "python",
   "pygments_lexer": "ipython3",
   "version": "3.6.3"
  }
 },
 "nbformat": 4,
 "nbformat_minor": 2
}
